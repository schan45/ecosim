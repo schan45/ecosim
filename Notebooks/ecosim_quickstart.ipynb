# Quickstart Example

from simulation.engine import SimulationEngine
from core.terrain import Terrain

grid_size = 20
steps = 10

terrain = Terrain(grid_size)
engine = SimulationEngine(grid_size=grid_size, steps=steps, foodweb_path="configs/foodweb_config.json")
engine.terrain = terrain

engine.setup()
engine.run()
