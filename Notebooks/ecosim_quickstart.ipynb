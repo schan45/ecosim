{
 "cells": [
  {
   "cell_type": "markdown",
   "metadata": {},
   "source": [
    "# Ecosim Quickstart\n",
    "This notebook runs a simple simulation using Ecosim."
   ]
  },
  {
   "cell_type": "code",
   "execution_count": null,
   "metadata": {},
   "outputs": [],
   "source": [
    "from simulation.engine import SimulationEngine\n",
    "from core.terrain import Terrain\n",
    "\n",
    "grid_size = 10\n",
    "steps = 5\n",
    "\n",
    "terrain = Terrain(grid_size)\n",
    "engine = SimulationEngine(grid_size=grid_size, steps=steps, foodweb_path=\"configs/foodweb_config.json\")\n",
    "engine.terrain = terrain\n",
    "engine.setup()\n",
    "engine.run()"
   ]
  }
 ],
 "metadata": {
  "kernelspec": {
   "display_name": "Python 3",
   "language": "python",
   "name": "python3"
  },
  "language_info": {
   "name": "python",
   "version": "3.9"
  }
 },
 "nbformat": 4,
 "nbformat_minor": 5
}
